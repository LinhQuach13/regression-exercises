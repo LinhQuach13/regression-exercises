{
 "cells": [
  {
   "cell_type": "markdown",
   "metadata": {},
   "source": [
    "# Exercises\n",
    "- Do your work for these exercises in a jupyter notebook named scaling. Use the telco dataset you acquired and prepped in previous lesson. Once you are finished, you may wish to repeat the exercises on another dataset for additional practice.\n"
   ]
  },
  {
   "cell_type": "code",
   "execution_count": 85,
   "metadata": {},
   "outputs": [],
   "source": [
    "import pandas as pd\n",
    "import matplotlib.pyplot as plt\n",
    "import seaborn as sns\n",
    "import numpy as np\n",
    "from env import host, user, password\n",
    "\n",
    "# visualize\n",
    "import seaborn as sns\n",
    "import matplotlib.pyplot as plt\n",
    "plt.rc('figure', figsize=(11, 9))\n",
    "plt.rc('font', size=13)\n",
    "\n",
    "# turn off pink warning boxes\n",
    "import warnings\n",
    "warnings.filterwarnings(\"ignore\")\n",
    "\n",
    "import os\n",
    "os.path.isfile('telco_df.csv')\n",
    "\n",
    "from sklearn.model_selection import train_test_split\n",
    "from sklearn.impute import SimpleImputer\n",
    "from sklearn.preprocessing import MinMaxScaler, RobustScaler, StandardScaler\n",
    "import sklearn.preprocessing\n",
    "from sklearn.preprocessing import QuantileTransformer\n",
    "\n",
    "import wrangle\n",
    "import prepare"
   ]
  },
  {
   "cell_type": "markdown",
   "metadata": {},
   "source": [
    "#1. Apply the scalers we talked about in this lesson to your data and visualize the results for the unscaled and scaled distribution ."
   ]
  },
  {
   "cell_type": "code",
   "execution_count": 2,
   "metadata": {},
   "outputs": [],
   "source": [
    "#acquire, prepare, and split dataframe using function from wrangle.py\n",
    "train, validate, test= wrangle.wrangle_telco_two_year()"
   ]
  },
  {
   "cell_type": "code",
   "execution_count": 3,
   "metadata": {},
   "outputs": [
    {
     "data": {
      "text/html": [
       "<div>\n",
       "<style scoped>\n",
       "    .dataframe tbody tr th:only-of-type {\n",
       "        vertical-align: middle;\n",
       "    }\n",
       "\n",
       "    .dataframe tbody tr th {\n",
       "        vertical-align: top;\n",
       "    }\n",
       "\n",
       "    .dataframe thead th {\n",
       "        text-align: right;\n",
       "    }\n",
       "</style>\n",
       "<table border=\"1\" class=\"dataframe\">\n",
       "  <thead>\n",
       "    <tr style=\"text-align: right;\">\n",
       "      <th></th>\n",
       "      <th>customer_id</th>\n",
       "      <th>monthly_charges</th>\n",
       "      <th>tenure</th>\n",
       "      <th>total_charges</th>\n",
       "    </tr>\n",
       "  </thead>\n",
       "  <tbody>\n",
       "    <tr>\n",
       "      <th>1256</th>\n",
       "      <td>3097-FQTVJ</td>\n",
       "      <td>20.00</td>\n",
       "      <td>41</td>\n",
       "      <td>810.30</td>\n",
       "    </tr>\n",
       "    <tr>\n",
       "      <th>225</th>\n",
       "      <td>3902-MIVLE</td>\n",
       "      <td>75.70</td>\n",
       "      <td>63</td>\n",
       "      <td>4676.70</td>\n",
       "    </tr>\n",
       "    <tr>\n",
       "      <th>662</th>\n",
       "      <td>0853-TWRVK</td>\n",
       "      <td>105.60</td>\n",
       "      <td>72</td>\n",
       "      <td>7581.50</td>\n",
       "    </tr>\n",
       "    <tr>\n",
       "      <th>628</th>\n",
       "      <td>0013-SMEOE</td>\n",
       "      <td>109.70</td>\n",
       "      <td>71</td>\n",
       "      <td>7904.25</td>\n",
       "    </tr>\n",
       "    <tr>\n",
       "      <th>824</th>\n",
       "      <td>4822-LPTYJ</td>\n",
       "      <td>103.75</td>\n",
       "      <td>72</td>\n",
       "      <td>7346.20</td>\n",
       "    </tr>\n",
       "  </tbody>\n",
       "</table>\n",
       "</div>"
      ],
      "text/plain": [
       "     customer_id  monthly_charges  tenure  total_charges\n",
       "1256  3097-FQTVJ            20.00      41         810.30\n",
       "225   3902-MIVLE            75.70      63        4676.70\n",
       "662   0853-TWRVK           105.60      72        7581.50\n",
       "628   0013-SMEOE           109.70      71        7904.25\n",
       "824   4822-LPTYJ           103.75      72        7346.20"
      ]
     },
     "execution_count": 3,
     "metadata": {},
     "output_type": "execute_result"
    }
   ],
   "source": [
    "train.head()# look at first five values"
   ]
  },
  {
   "cell_type": "code",
   "execution_count": 4,
   "metadata": {},
   "outputs": [],
   "source": [
    "train.drop(columns='customer_id', inplace= True) # dropping customer id in train dataset b/c categorical variable not able to scale with it"
   ]
  },
  {
   "cell_type": "code",
   "execution_count": 5,
   "metadata": {},
   "outputs": [
    {
     "data": {
      "text/html": [
       "<div>\n",
       "<style scoped>\n",
       "    .dataframe tbody tr th:only-of-type {\n",
       "        vertical-align: middle;\n",
       "    }\n",
       "\n",
       "    .dataframe tbody tr th {\n",
       "        vertical-align: top;\n",
       "    }\n",
       "\n",
       "    .dataframe thead th {\n",
       "        text-align: right;\n",
       "    }\n",
       "</style>\n",
       "<table border=\"1\" class=\"dataframe\">\n",
       "  <thead>\n",
       "    <tr style=\"text-align: right;\">\n",
       "      <th></th>\n",
       "      <th>monthly_charges</th>\n",
       "      <th>tenure</th>\n",
       "      <th>total_charges</th>\n",
       "    </tr>\n",
       "  </thead>\n",
       "  <tbody>\n",
       "    <tr>\n",
       "      <th>1256</th>\n",
       "      <td>20.00</td>\n",
       "      <td>41</td>\n",
       "      <td>810.30</td>\n",
       "    </tr>\n",
       "    <tr>\n",
       "      <th>225</th>\n",
       "      <td>75.70</td>\n",
       "      <td>63</td>\n",
       "      <td>4676.70</td>\n",
       "    </tr>\n",
       "    <tr>\n",
       "      <th>662</th>\n",
       "      <td>105.60</td>\n",
       "      <td>72</td>\n",
       "      <td>7581.50</td>\n",
       "    </tr>\n",
       "    <tr>\n",
       "      <th>628</th>\n",
       "      <td>109.70</td>\n",
       "      <td>71</td>\n",
       "      <td>7904.25</td>\n",
       "    </tr>\n",
       "    <tr>\n",
       "      <th>824</th>\n",
       "      <td>103.75</td>\n",
       "      <td>72</td>\n",
       "      <td>7346.20</td>\n",
       "    </tr>\n",
       "  </tbody>\n",
       "</table>\n",
       "</div>"
      ],
      "text/plain": [
       "      monthly_charges  tenure  total_charges\n",
       "1256            20.00      41         810.30\n",
       "225             75.70      63        4676.70\n",
       "662            105.60      72        7581.50\n",
       "628            109.70      71        7904.25\n",
       "824            103.75      72        7346.20"
      ]
     },
     "execution_count": 5,
     "metadata": {},
     "output_type": "execute_result"
    }
   ],
   "source": [
    "train.head()#making sure customer id was dropped."
   ]
  },
  {
   "cell_type": "code",
   "execution_count": 6,
   "metadata": {},
   "outputs": [],
   "source": [
    "validate.drop(columns='customer_id', inplace= True)# dropping customer id in validate dataset b/c categorical variable not able to scale with it"
   ]
  },
  {
   "cell_type": "code",
   "execution_count": 7,
   "metadata": {},
   "outputs": [],
   "source": [
    "test.drop(columns='customer_id', inplace= True)# dropping customer id in test dataset b/c categorical variable not able to scale with it"
   ]
  },
  {
   "cell_type": "code",
   "execution_count": 8,
   "metadata": {},
   "outputs": [
    {
     "data": {
      "text/plain": [
       "1256     20.00\n",
       "225      75.70\n",
       "662     105.60\n",
       "628     109.70\n",
       "824     103.75\n",
       "         ...  \n",
       "441      65.85\n",
       "98       48.90\n",
       "886     104.15\n",
       "322      80.60\n",
       "1593     19.45\n",
       "Name: monthly_charges, Length: 949, dtype: float64"
      ]
     },
     "execution_count": 8,
     "metadata": {},
     "output_type": "execute_result"
    }
   ],
   "source": [
    "train['monthly_charges'] #Making sure this code only filters for monthly charges columns"
   ]
  },
  {
   "cell_type": "code",
   "execution_count": 58,
   "metadata": {},
   "outputs": [
    {
     "data": {
      "text/plain": [
       "Text(0.5, 1.0, 'Scaled')"
      ]
     },
     "execution_count": 58,
     "metadata": {},
     "output_type": "execute_result"
    },
    {
     "data": {
      "image/png": "[encoded data removed]",
      "text/plain": [
       "<Figure size 936x432 with 2 Axes>"
      ]
     },
     "metadata": {
      "needs_background": "light"
     },
     "output_type": "display_data"
    }
   ],
   "source": [
    "scaler = MinMaxScaler()\n",
    "# Note that we only call .fit with the training data,\n",
    "# but we use .transform to apply the scaling to all the data splits.\n",
    "scaler.fit(train[['monthly_charges']])\n",
    "\n",
    "x_train_scaled = scaler.transform(train[['monthly_charges']])\n",
    "x_validate_scaled = scaler.transform(validate)\n",
    "x_test_scaled = scaler.transform(test)\n",
    "\n",
    "plt.figure(figsize=(13, 6))\n",
    "plt.subplot(121)\n",
    "plt.hist(train[['monthly_charges']], bins=25, ec='black')\n",
    "plt.title('Original')\n",
    "plt.subplot(122)\n",
    "plt.hist(x_train_scaled, bins=25, ec='black')\n",
    "plt.title('Scaled')\n",
    "\n"
   ]
  },
  {
   "cell_type": "code",
   "execution_count": 59,
   "metadata": {},
   "outputs": [
    {
     "data": {
      "text/plain": [
       "Text(0.5, 1.0, 'Scaled')"
      ]
     },
     "execution_count": 59,
     "metadata": {},
     "output_type": "execute_result"
    },
    {
     "data": {
      "image/png": "[encoded data removed]",
      "text/plain": [
       "<Figure size 936x432 with 2 Axes>"
      ]
     },
     "metadata": {
      "needs_background": "light"
     },
     "output_type": "display_data"
    }
   ],
   "source": [
    "scaler2 = MinMaxScaler()\n",
    "# Note that we only call .fit with the training data,\n",
    "# but we use .transform to apply the scaling to all the data splits.\n",
    "scaler2.fit(train[['total_charges']])\n",
    "\n",
    "x_train_scaled2 = scaler2.transform(train[['total_charges']])\n",
    "# x_validate_scaled2 = scaler2.transform(validate)\n",
    "# x_test_scaled2 = scaler2.transform(test)\n",
    "\n",
    "plt.figure(figsize=(13, 6))\n",
    "plt.subplot(121)\n",
    "plt.hist(train[['total_charges']], bins=25, color='skyblue', ec='black')\n",
    "plt.title('Original')\n",
    "plt.subplot(122)\n",
    "plt.hist(x_train_scaled, bins=25, color='skyblue', ec='black')\n",
    "plt.title('Scaled')"
   ]
  },
  {
   "cell_type": "code",
   "execution_count": 60,
   "metadata": {},
   "outputs": [
    {
     "data": {
      "text/plain": [
       "Text(0.5, 1.0, 'Scaled')"
      ]
     },
     "execution_count": 60,
     "metadata": {},
     "output_type": "execute_result"
    },
    {
     "data": {
      "image/png": "[encoded data removed]",
      "text/plain": [
       "<Figure size 936x432 with 2 Axes>"
      ]
     },
     "metadata": {
      "needs_background": "light"
     },
     "output_type": "display_data"
    }
   ],
   "source": [
    "scaler3 = MinMaxScaler()\n",
    "# Note that we only call .fit with the training data,\n",
    "# but we use .transform to apply the scaling to all the data splits.\n",
    "scaler3.fit(train[['tenure']])\n",
    "\n",
    "x_train_scaled3 = scaler3.transform(train[['tenure']])\n",
    "# x_validate_scaled3 = scaler3.transform(validate)\n",
    "# x_test_scaled3 = scaler3.transform(test)\n",
    "\n",
    "plt.figure(figsize=(13, 6))\n",
    "plt.subplot(121)\n",
    "plt.hist(train[['tenure']], bins=25, color='darkmagenta', ec='black')\n",
    "plt.title('Original')\n",
    "plt.subplot(122)\n",
    "plt.hist(x_train_scaled, bins=25, color='darkmagenta', ec='black')\n",
    "plt.title('Scaled')"
   ]
  },
  {
   "cell_type": "code",
   "execution_count": null,
   "metadata": {},
   "outputs": [],
   "source": []
  },
  {
   "cell_type": "markdown",
   "metadata": {},
   "source": [
    "#2. Apply the .inverse_transform method to your scaled data. Is the resulting dataset the exact same as the original data?"
   ]
  },
  {
   "cell_type": "code",
   "execution_count": 61,
   "metadata": {},
   "outputs": [],
   "source": [
    "#inverse tranforming original scaler\n",
    "#Create a new column that has been transformed to use with inverse transform\n",
    "train['standard_monthly_charges'] = scaler.transform(train[['monthly_charges']])\n",
    "\n",
    "x_train_inverse_scaled = scaler.inverse_transform(train[['standard_monthly_charges']])\n",
    "# x_validate_inverse_scaled = scaler.inverse_transform(validate)\n",
    "# x_test_inverse_scaled= scaler.inverse_transform(test)"
   ]
  },
  {
   "cell_type": "code",
   "execution_count": 62,
   "metadata": {},
   "outputs": [
    {
     "data": {
      "text/plain": [
       "Text(0.5, 1.0, 'Scaled_Inverse')"
      ]
     },
     "execution_count": 62,
     "metadata": {},
     "output_type": "execute_result"
    },
    {
     "data": {
      "image/png": "[encoded data removed]",
      "text/plain": [
       "<Figure size 936x432 with 2 Axes>"
      ]
     },
     "metadata": {
      "needs_background": "light"
     },
     "output_type": "display_data"
    }
   ],
   "source": [
    "#visualizing it\n",
    "plt.figure(figsize=(13, 6))\n",
    "plt.subplot(121)\n",
    "plt.hist(train[['monthly_charges']], bins=25, ec='black')\n",
    "plt.title('Original')\n",
    "plt.subplot(122)\n",
    "plt.hist(x_train_inverse_scaled, bins=25, ec='black')\n",
    "plt.title('Scaled_Inverse')"
   ]
  },
  {
   "cell_type": "code",
   "execution_count": 65,
   "metadata": {},
   "outputs": [],
   "source": [
    "#tranforming original scaler2\n",
    "train['standard_total_charges']= scaler2.transform(train[['total_charges']])\n",
    "\n",
    "x_train_inverse_scaled2 = scaler2.inverse_transform(train[['standard_total_charges']])\n",
    "# x_validate_inverse_scaled2 = scaler2.inverse_transform(validate)\n",
    "# x_test_inverse_scaled2 = scaler2.inverse_transform(test)"
   ]
  },
  {
   "cell_type": "code",
   "execution_count": 66,
   "metadata": {},
   "outputs": [
    {
     "data": {
      "text/plain": [
       "Text(0.5, 1.0, 'Scaled')"
      ]
     },
     "execution_count": 66,
     "metadata": {},
     "output_type": "execute_result"
    },
    {
     "data": {
      "image/png": "[encoded data removed]",
      "text/plain": [
       "<Figure size 936x432 with 2 Axes>"
      ]
     },
     "metadata": {
      "needs_background": "light"
     },
     "output_type": "display_data"
    }
   ],
   "source": [
    "#visualizing it\n",
    "plt.figure(figsize=(13, 6))\n",
    "plt.subplot(121)\n",
    "plt.hist(train[['total_charges']], bins=25, color='skyblue', ec='black')\n",
    "plt.title('Original')\n",
    "plt.subplot(122)\n",
    "plt.hist(x_train_inverse_scaled2, bins=25, color='skyblue', ec='black')\n",
    "plt.title('Scaled')"
   ]
  },
  {
   "cell_type": "code",
   "execution_count": 67,
   "metadata": {},
   "outputs": [],
   "source": [
    "#tranforming original scaler\n",
    "train['standard_tenure']= scaler3.transform(train[['tenure']])\n",
    "\n",
    "x_train_inverse_scaled3 = scaler3.inverse_transform(train[['standard_tenure']])\n",
    "# x_validate_inverse_scaled3 = scaler3.inverse_transform(validate)\n",
    "# x_test_inverse_scaled3 = scaler3.inverse_transform(test)"
   ]
  },
  {
   "cell_type": "code",
   "execution_count": 68,
   "metadata": {},
   "outputs": [
    {
     "data": {
      "text/plain": [
       "Text(0.5, 1.0, 'Scaled')"
      ]
     },
     "execution_count": 68,
     "metadata": {},
     "output_type": "execute_result"
    },
    {
     "data": {
      "image/png": "[encoded data removed]",
      "text/plain": [
       "<Figure size 936x432 with 2 Axes>"
      ]
     },
     "metadata": {
      "needs_background": "light"
     },
     "output_type": "display_data"
    }
   ],
   "source": [
    "#visualize it\n",
    "plt.figure(figsize=(13, 6))\n",
    "plt.subplot(121)\n",
    "plt.hist(train[['tenure']], bins=25, color='darkmagenta', ec='black')\n",
    "plt.title('Original')\n",
    "plt.subplot(122)\n",
    "plt.hist(x_train_inverse_scaled3 , bins=25, color='darkmagenta', ec='black')\n",
    "plt.title('Scaled')"
   ]
  },
  {
   "cell_type": "markdown",
   "metadata": {},
   "source": [
    "#3. Read the documentation for sklearn's QuantileTransformer. Use normal for the output_distribution and apply this scaler to your data. Visualize the result of your data scaling."
   ]
  },
  {
   "cell_type": "code",
   "execution_count": 72,
   "metadata": {},
   "outputs": [],
   "source": [
    "#Create the object\n",
    "quantile = QuantileTransformer(output_distribution='normal')"
   ]
  },
  {
   "cell_type": "code",
   "execution_count": 73,
   "metadata": {},
   "outputs": [],
   "source": [
    "#Fit and transform it\n",
    "data_trans = quantile.fit_transform(train[['monthly_charges']])"
   ]
  },
  {
   "cell_type": "code",
   "execution_count": 74,
   "metadata": {},
   "outputs": [
    {
     "data": {
      "text/plain": [
       "Text(0.5, 1.0, 'Quantile Transformed')"
      ]
     },
     "execution_count": 74,
     "metadata": {},
     "output_type": "execute_result"
    },
    {
     "data": {
      "image/png": "[encoded data removed]",
      "text/plain": [
       "<Figure size 936x432 with 2 Axes>"
      ]
     },
     "metadata": {
      "needs_background": "light"
     },
     "output_type": "display_data"
    }
   ],
   "source": [
    "#visualize it\n",
    "plt.figure(figsize=(13, 6))\n",
    "plt.subplot(121)\n",
    "plt.hist(train[['monthly_charges']], bins=25, ec='black')\n",
    "plt.title('Original')\n",
    "plt.subplot(122)\n",
    "plt.hist(data_trans , bins=25, ec='black')\n",
    "plt.title('Quantile Transformed')"
   ]
  },
  {
   "cell_type": "code",
   "execution_count": 75,
   "metadata": {},
   "outputs": [],
   "source": [
    "#Create the object\n",
    "quantile2 = QuantileTransformer(output_distribution='normal')"
   ]
  },
  {
   "cell_type": "code",
   "execution_count": 76,
   "metadata": {},
   "outputs": [],
   "source": [
    "#Fit and transform it\n",
    "data_trans2 = quantile.fit_transform(train[['total_charges']])"
   ]
  },
  {
   "cell_type": "code",
   "execution_count": 77,
   "metadata": {},
   "outputs": [
    {
     "data": {
      "text/plain": [
       "Text(0.5, 1.0, 'Quantile Transformed')"
      ]
     },
     "execution_count": 77,
     "metadata": {},
     "output_type": "execute_result"
    },
    {
     "data": {
      "image/png": "[encoded data removed]",
      "text/plain": [
       "<Figure size 936x432 with 2 Axes>"
      ]
     },
     "metadata": {
      "needs_background": "light"
     },
     "output_type": "display_data"
    }
   ],
   "source": [
    "#visualizing it\n",
    "plt.figure(figsize=(13, 6))\n",
    "plt.subplot(121)\n",
    "plt.hist(train[['total_charges']], bins=25, color='skyblue', ec='black')\n",
    "plt.title('Original')\n",
    "plt.subplot(122)\n",
    "plt.hist(data_trans2, bins=25, color='skyblue', ec='black')\n",
    "plt.title('Quantile Transformed')"
   ]
  },
  {
   "cell_type": "code",
   "execution_count": 78,
   "metadata": {},
   "outputs": [],
   "source": [
    "#Create the object\n",
    "quantile3 = QuantileTransformer(output_distribution='normal')"
   ]
  },
  {
   "cell_type": "code",
   "execution_count": 79,
   "metadata": {},
   "outputs": [],
   "source": [
    "#Fit and transform it\n",
    "data_trans3 = quantile.fit_transform(train[['tenure']])"
   ]
  },
  {
   "cell_type": "code",
   "execution_count": 80,
   "metadata": {},
   "outputs": [
    {
     "data": {
      "text/plain": [
       "Text(0.5, 1.0, 'Quantile Transformed')"
      ]
     },
     "execution_count": 80,
     "metadata": {},
     "output_type": "execute_result"
    },
    {
     "data": {
      "image/png": "[encoded data removed]",
      "text/plain": [
       "<Figure size 936x432 with 2 Axes>"
      ]
     },
     "metadata": {
      "needs_background": "light"
     },
     "output_type": "display_data"
    }
   ],
   "source": [
    "#visualize it\n",
    "plt.figure(figsize=(13, 6))\n",
    "plt.subplot(121)\n",
    "plt.hist(train[['tenure']], bins=25, color='darkmagenta', ec='black')\n",
    "plt.title('Original')\n",
    "plt.subplot(122)\n",
    "plt.hist(data_trans3 , bins=25, color='darkmagenta', ec='black')\n",
    "plt.title('Quantile Transformed')"
   ]
  },
  {
   "cell_type": "markdown",
   "metadata": {},
   "source": [
    "#4. Use the QuantileTransformer, but omit the output_distribution argument. Visualize your results. What do you notice?"
   ]
  },
  {
   "cell_type": "code",
   "execution_count": 38,
   "metadata": {},
   "outputs": [],
   "source": [
    "#Create the object\n",
    "quantile_no_norm = QuantileTransformer()"
   ]
  },
  {
   "cell_type": "code",
   "execution_count": 39,
   "metadata": {},
   "outputs": [],
   "source": [
    "#Fit and transform it\n",
    "data_transformed = quantile_no_norm.fit_transform(train[['total_charges']])"
   ]
  },
  {
   "cell_type": "code",
   "execution_count": 40,
   "metadata": {},
   "outputs": [
    {
     "data": {
      "text/plain": [
       "Text(0.5, 1.0, 'Quantile Transformed')"
      ]
     },
     "execution_count": 40,
     "metadata": {},
     "output_type": "execute_result"
    },
    {
     "data": {
      "image/png": "[encoded data removed]",
      "text/plain": [
       "<Figure size 936x432 with 2 Axes>"
      ]
     },
     "metadata": {
      "needs_background": "light"
     },
     "output_type": "display_data"
    }
   ],
   "source": [
    "#visualize it\n",
    "plt.figure(figsize=(13, 6))\n",
    "plt.subplot(121)\n",
    "plt.hist(train[['tenure']], bins=25, ec='black')\n",
    "plt.title('Original')\n",
    "plt.subplot(122)\n",
    "plt.hist(data_transformed , bins=25, ec='black')\n",
    "plt.title('Quantile Transformed')"
   ]
  },
  {
   "cell_type": "code",
   "execution_count": 46,
   "metadata": {},
   "outputs": [],
   "source": [
    "#Create the object\n",
    "quantile_no_norm2 = QuantileTransformer()"
   ]
  },
  {
   "cell_type": "code",
   "execution_count": 47,
   "metadata": {},
   "outputs": [],
   "source": [
    "#Fit and transform it\n",
    "data_transformation2 = quantile_no_norm2.fit_transform(train[['total_charges']])"
   ]
  },
  {
   "cell_type": "code",
   "execution_count": 48,
   "metadata": {},
   "outputs": [
    {
     "data": {
      "text/plain": [
       "Text(0.5, 1.0, 'Quantile Transformed')"
      ]
     },
     "execution_count": 48,
     "metadata": {},
     "output_type": "execute_result"
    },
    {
     "data": {
      "image/png": "[encoded data removed]",
      "text/plain": [
       "<Figure size 936x432 with 2 Axes>"
      ]
     },
     "metadata": {
      "needs_background": "light"
     },
     "output_type": "display_data"
    }
   ],
   "source": [
    "#visualizing it\n",
    "plt.figure(figsize=(13, 6))\n",
    "plt.subplot(121)\n",
    "plt.hist(train[['total_charges']], bins=25, color='skyblue', ec='black')\n",
    "plt.title('Original')\n",
    "plt.subplot(122)\n",
    "plt.hist(data_transformation2, bins=25, color='skyblue', ec='black')\n",
    "plt.title('Quantile Transformed')"
   ]
  },
  {
   "cell_type": "code",
   "execution_count": 49,
   "metadata": {},
   "outputs": [],
   "source": [
    "#Create the object\n",
    "quantile_no_norm3 = QuantileTransformer()"
   ]
  },
  {
   "cell_type": "code",
   "execution_count": 50,
   "metadata": {},
   "outputs": [],
   "source": [
    "#Fit and transform it\n",
    "data_transformation3 = quantile_no_norm3.fit_transform(train[['tenure']])"
   ]
  },
  {
   "cell_type": "code",
   "execution_count": 51,
   "metadata": {},
   "outputs": [
    {
     "data": {
      "text/plain": [
       "Text(0.5, 1.0, 'Quantile Transformed')"
      ]
     },
     "execution_count": 51,
     "metadata": {},
     "output_type": "execute_result"
    },
    {
     "data": {
      "image/png": "[encoded data removed]",
      "text/plain": [
       "<Figure size 936x432 with 2 Axes>"
      ]
     },
     "metadata": {
      "needs_background": "light"
     },
     "output_type": "display_data"
    }
   ],
   "source": [
    "#visualize it\n",
    "plt.figure(figsize=(13, 6))\n",
    "plt.subplot(121)\n",
    "plt.hist(train[['tenure']], bins=25, color='darkmagenta', ec='black')\n",
    "plt.title('Original')\n",
    "plt.subplot(122)\n",
    "plt.hist(data_transformation3 , bins=25, color='darkmagenta', ec='black')\n",
    "plt.title('Quantile Transformed')"
   ]
  },
  {
   "cell_type": "markdown",
   "metadata": {},
   "source": [
    "I notice the visual looks different and this is due the output_distribution is set a uniform distribution instead or normal"
   ]
  },
  {
   "cell_type": "markdown",
   "metadata": {},
   "source": [
    "#5. Based on the work you've done, choose a scaling method for your dataset. Write a function within your prepare.py that accepts as input the train, validate, and test data splits, and returns the scaled versions of each. Be sure to only learn the parameters for scaling from your training data!\n"
   ]
  },
  {
   "cell_type": "code",
   "execution_count": 86,
   "metadata": {},
   "outputs": [],
   "source": [
    "train2, validate2, test2= prepare.scaler_telco()"
   ]
  },
  {
   "cell_type": "code",
   "execution_count": 88,
   "metadata": {
    "collapsed": true,
    "jupyter": {
     "outputs_hidden": true
    }
   },
   "outputs": [
    {
     "data": {
      "text/plain": [
       "array([[0.01448551],\n",
       "       [0.57092907],\n",
       "       [0.86963037],\n",
       "       [0.91058941],\n",
       "       [0.85114885],\n",
       "       [0.01998002],\n",
       "       [1.        ],\n",
       "       [0.56593407],\n",
       "       [0.06443556],\n",
       "       [0.07042957],\n",
       "       [0.36663337],\n",
       "       [0.81818182],\n",
       "       [0.5014985 ],\n",
       "       [0.01148851],\n",
       "       [0.71828172],\n",
       "       [0.42757243],\n",
       "       [0.65484515],\n",
       "       [0.97452547],\n",
       "       [0.68031968],\n",
       "       [0.32067932],\n",
       "       [0.8956044 ],\n",
       "       [0.61938062],\n",
       "       [0.47002997],\n",
       "       [0.01498501],\n",
       "       [0.00549451],\n",
       "       [0.85364635],\n",
       "       [0.01498501],\n",
       "       [0.01498501],\n",
       "       [0.9995005 ],\n",
       "       [0.30869131],\n",
       "       [0.85314685],\n",
       "       [0.70629371],\n",
       "       [0.41158841],\n",
       "       [0.01198801],\n",
       "       [0.62387612],\n",
       "       [0.63186813],\n",
       "       [0.02197802],\n",
       "       [0.93306693],\n",
       "       [0.61838162],\n",
       "       [0.42757243],\n",
       "       [0.97152847],\n",
       "       [0.01248751],\n",
       "       [0.70829171],\n",
       "       [0.8966034 ],\n",
       "       [0.06193806],\n",
       "       [0.00949051],\n",
       "       [0.01698302],\n",
       "       [0.74075924],\n",
       "       [0.66383616],\n",
       "       [0.46553447],\n",
       "       [0.42607393],\n",
       "       [0.63836164],\n",
       "       [0.02447552],\n",
       "       [0.21978022],\n",
       "       [0.8976024 ],\n",
       "       [0.8001998 ],\n",
       "       [0.95454545],\n",
       "       [0.00749251],\n",
       "       [0.02547453],\n",
       "       [0.9040959 ],\n",
       "       [0.64685315],\n",
       "       [0.07442557],\n",
       "       [0.75674326],\n",
       "       [0.01148851],\n",
       "       [0.01198801],\n",
       "       [0.37462537],\n",
       "       [0.2957043 ],\n",
       "       [0.01898102],\n",
       "       [0.06643357],\n",
       "       [0.80669331],\n",
       "       [0.07242757],\n",
       "       [0.55794206],\n",
       "       [0.62087912],\n",
       "       [0.52847153],\n",
       "       [0.48251748],\n",
       "       [0.71978022],\n",
       "       [0.41408591],\n",
       "       [0.64085914],\n",
       "       [0.06493506],\n",
       "       [0.05994006],\n",
       "       [0.37062937],\n",
       "       [0.66633367],\n",
       "       [0.05744256],\n",
       "       [0.05394605],\n",
       "       [0.05644356],\n",
       "       [0.00899101],\n",
       "       [0.07542458],\n",
       "       [0.06543457],\n",
       "       [0.07542458],\n",
       "       [0.4005994 ],\n",
       "       [0.07392607],\n",
       "       [0.58291708],\n",
       "       [0.91108891],\n",
       "       [0.05444555],\n",
       "       [0.62387612],\n",
       "       [0.9025974 ],\n",
       "       [0.66883117],\n",
       "       [0.01548452],\n",
       "       [0.00599401],\n",
       "       [0.06693307],\n",
       "       [0.21978022],\n",
       "       [0.00799201],\n",
       "       [0.01098901],\n",
       "       [0.80869131],\n",
       "       [0.01248751],\n",
       "       [0.60689311],\n",
       "       [0.85964036],\n",
       "       [0.91458541],\n",
       "       [0.06893107],\n",
       "       [0.60639361],\n",
       "       [0.77272727],\n",
       "       [0.63386613],\n",
       "       [0.01548452],\n",
       "       [0.61088911],\n",
       "       [0.41258741],\n",
       "       [0.02447552],\n",
       "       [0.00899101],\n",
       "       [0.85764236],\n",
       "       [0.01248751],\n",
       "       [0.27622378],\n",
       "       [0.01948052],\n",
       "       [0.73376623],\n",
       "       [0.31218781],\n",
       "       [0.52497502],\n",
       "       [0.85364635],\n",
       "       [0.7957043 ],\n",
       "       [0.7007992 ],\n",
       "       [0.01398601],\n",
       "       [0.01048951],\n",
       "       [0.62087912],\n",
       "       [0.07142857],\n",
       "       [0.42707293],\n",
       "       [0.06743257],\n",
       "       [0.97402597],\n",
       "       [0.44205794],\n",
       "       [0.48651349],\n",
       "       [0.56243756],\n",
       "       [0.55744256],\n",
       "       [0.00849151],\n",
       "       [0.01898102],\n",
       "       [0.01798202],\n",
       "       [0.61638362],\n",
       "       [0.01348651],\n",
       "       [0.06393606],\n",
       "       [0.01448551],\n",
       "       [0.46653347],\n",
       "       [0.87712288],\n",
       "       [0.94105894],\n",
       "       [0.00999001],\n",
       "       [0.77972028],\n",
       "       [0.51848152],\n",
       "       [0.67432567],\n",
       "       [0.80719281],\n",
       "       [0.73826174],\n",
       "       [0.61788212],\n",
       "       [0.36863137],\n",
       "       [0.06593407],\n",
       "       [0.64585415],\n",
       "       [0.36063936],\n",
       "       [0.42857143],\n",
       "       [0.01748252],\n",
       "       [0.17132867],\n",
       "       [0.01298701],\n",
       "       [0.01098901],\n",
       "       [0.41408591],\n",
       "       [0.48301698],\n",
       "       [0.06193806],\n",
       "       [0.96903097],\n",
       "       [0.56193806],\n",
       "       [0.52997003],\n",
       "       [0.91858142],\n",
       "       [0.61538462],\n",
       "       [0.91108891],\n",
       "       [0.56543457],\n",
       "       [0.70929071],\n",
       "       [0.00799201],\n",
       "       [0.82517483],\n",
       "       [0.01498501],\n",
       "       [0.01598402],\n",
       "       [0.8006993 ],\n",
       "       [0.47052947],\n",
       "       [0.67832168],\n",
       "       [0.06993007],\n",
       "       [0.00549451],\n",
       "       [0.01148851],\n",
       "       [0.06793207],\n",
       "       [0.01548452],\n",
       "       [0.02247752],\n",
       "       [0.61838162],\n",
       "       [0.8036963 ],\n",
       "       [0.36713287],\n",
       "       [0.46953047],\n",
       "       [0.96903097],\n",
       "       [0.01948052],\n",
       "       [0.46503497],\n",
       "       [0.00999001],\n",
       "       [0.06293706],\n",
       "       [0.00699301],\n",
       "       [0.81268731],\n",
       "       [0.92607393],\n",
       "       [0.05444555],\n",
       "       [0.6048951 ],\n",
       "       [0.01098901],\n",
       "       [0.65234765],\n",
       "       [0.71478521],\n",
       "       [0.90609391],\n",
       "       [0.01448551],\n",
       "       [0.06743257],\n",
       "       [0.63336663],\n",
       "       [0.81868132],\n",
       "       [0.02197802],\n",
       "       [0.76173826],\n",
       "       [0.96403596],\n",
       "       [0.01298701],\n",
       "       [0.00749251],\n",
       "       [0.07442557],\n",
       "       [0.56893107],\n",
       "       [0.05994006],\n",
       "       [0.06393606],\n",
       "       [0.29020979],\n",
       "       [0.01398601],\n",
       "       [0.01498501],\n",
       "       [0.91058941],\n",
       "       [0.00999001],\n",
       "       [0.85314685],\n",
       "       [0.56743257],\n",
       "       [0.01598402],\n",
       "       [0.06443556],\n",
       "       [0.88011988],\n",
       "       [0.70779221],\n",
       "       [0.84765235],\n",
       "       [0.34915085],\n",
       "       [0.91958042],\n",
       "       [0.06693307],\n",
       "       [0.44705295],\n",
       "       [0.74425574],\n",
       "       [0.06893107],\n",
       "       [0.00999001],\n",
       "       [0.43906094],\n",
       "       [0.47102897],\n",
       "       [0.85364635],\n",
       "       [0.01398601],\n",
       "       [0.01098901],\n",
       "       [0.06543457],\n",
       "       [0.01348651],\n",
       "       [0.55994006],\n",
       "       [0.93606394],\n",
       "       [0.5044955 ],\n",
       "       [0.82267732],\n",
       "       [0.02047952],\n",
       "       [0.62237762],\n",
       "       [0.02297702],\n",
       "       [0.77722278],\n",
       "       [0.51598402],\n",
       "       [0.71428571],\n",
       "       [0.96453546],\n",
       "       [0.05844156],\n",
       "       [0.06393606],\n",
       "       [0.06593407],\n",
       "       [0.01448551],\n",
       "       [0.01148851],\n",
       "       [0.00999001],\n",
       "       [0.73576424],\n",
       "       [0.85464535],\n",
       "       [0.00699301],\n",
       "       [0.86763237],\n",
       "       [0.30769231],\n",
       "       [0.06343656],\n",
       "       [0.00999001],\n",
       "       [0.06293706],\n",
       "       [0.97152847],\n",
       "       [0.66733267],\n",
       "       [0.01748252],\n",
       "       [0.01648352],\n",
       "       [0.51098901],\n",
       "       [0.57542458],\n",
       "       [0.01448551],\n",
       "       [0.32317682],\n",
       "       [0.01698302],\n",
       "       [0.05994006],\n",
       "       [0.56943057],\n",
       "       [0.75924076],\n",
       "       [0.85414585],\n",
       "       [0.29270729],\n",
       "       [0.4030969 ],\n",
       "       [0.62187812],\n",
       "       [0.70679321],\n",
       "       [0.07142857],\n",
       "       [0.54645355],\n",
       "       [0.06693307],\n",
       "       [0.6023976 ],\n",
       "       [0.61138861],\n",
       "       [0.70779221],\n",
       "       [0.71078921],\n",
       "       [0.88761239],\n",
       "       [0.91258741],\n",
       "       [0.63686314],\n",
       "       [0.57442557],\n",
       "       [0.67782218],\n",
       "       [0.71928072],\n",
       "       [0.01298701],\n",
       "       [0.01148851],\n",
       "       [0.93456543],\n",
       "       [0.01298701],\n",
       "       [0.51898102],\n",
       "       [0.20529471],\n",
       "       [0.50649351],\n",
       "       [0.56743257],\n",
       "       [0.89310689],\n",
       "       [0.06843157],\n",
       "       [0.00999001],\n",
       "       [0.85664336],\n",
       "       [0.07042957],\n",
       "       [0.01098901],\n",
       "       [0.75724276],\n",
       "       [0.00799201],\n",
       "       [0.96253746],\n",
       "       [0.01148851],\n",
       "       [0.95954046],\n",
       "       [0.67832168],\n",
       "       [0.51098901],\n",
       "       [0.02097902],\n",
       "       [0.01498501],\n",
       "       [0.01398601],\n",
       "       [0.41908092],\n",
       "       [0.85514486],\n",
       "       [0.62387612],\n",
       "       [0.31268731],\n",
       "       [0.01148851],\n",
       "       [0.91808192],\n",
       "       [0.01348651],\n",
       "       [0.35614386],\n",
       "       [0.41258741],\n",
       "       [0.89010989],\n",
       "       [0.01348651],\n",
       "       [0.        ],\n",
       "       [0.47652348],\n",
       "       [0.06593407],\n",
       "       [0.93156843],\n",
       "       [0.69480519],\n",
       "       [0.41008991],\n",
       "       [0.90609391],\n",
       "       [0.06393606],\n",
       "       [0.82417582],\n",
       "       [0.01198801],\n",
       "       [0.36063936],\n",
       "       [0.50549451],\n",
       "       [0.78571429],\n",
       "       [0.28821179],\n",
       "       [0.21828172],\n",
       "       [0.05894106],\n",
       "       [0.05994006],\n",
       "       [0.20829171],\n",
       "       [0.06193806],\n",
       "       [0.41258741],\n",
       "       [0.00849151],\n",
       "       [0.06643357],\n",
       "       [0.01698302],\n",
       "       [0.87012987],\n",
       "       [0.71278721],\n",
       "       [0.07242757],\n",
       "       [0.55944056],\n",
       "       [0.94505495],\n",
       "       [0.02447552],\n",
       "       [0.47902098],\n",
       "       [0.01498501],\n",
       "       [0.61188811],\n",
       "       [0.7022977 ],\n",
       "       [0.5034965 ],\n",
       "       [0.06343656],\n",
       "       [0.003996  ],\n",
       "       [0.004995  ],\n",
       "       [0.01598402],\n",
       "       [0.00899101],\n",
       "       [0.81018981],\n",
       "       [0.06693307],\n",
       "       [0.31968032],\n",
       "       [0.31618382],\n",
       "       [0.5014985 ],\n",
       "       [0.01148851],\n",
       "       [0.91508492],\n",
       "       [0.87012987],\n",
       "       [0.06193806],\n",
       "       [0.45104895],\n",
       "       [0.34765235],\n",
       "       [0.81468531],\n",
       "       [0.42857143],\n",
       "       [0.46903097],\n",
       "       [0.32767233],\n",
       "       [0.60989011],\n",
       "       [0.66083916],\n",
       "       [0.41458541],\n",
       "       [0.01598402],\n",
       "       [0.52197802],\n",
       "       [0.68931069],\n",
       "       [0.04495504],\n",
       "       [0.52297702],\n",
       "       [0.94455544],\n",
       "       [0.87962038],\n",
       "       [0.07192807],\n",
       "       [0.01698302],\n",
       "       [0.06693307],\n",
       "       [0.76573427],\n",
       "       [0.78571429],\n",
       "       [0.45504496],\n",
       "       [0.44805195],\n",
       "       [0.60589411],\n",
       "       [0.86613387],\n",
       "       [0.77172827],\n",
       "       [0.00649351],\n",
       "       [0.19130869],\n",
       "       [0.46953047],\n",
       "       [0.95304695],\n",
       "       [0.01148851],\n",
       "       [0.01098901],\n",
       "       [0.35014985],\n",
       "       [0.65584416],\n",
       "       [0.77972028],\n",
       "       [0.91558442],\n",
       "       [0.67782218],\n",
       "       [0.85414585],\n",
       "       [0.66083916],\n",
       "       [0.31268731],\n",
       "       [0.00899101],\n",
       "       [0.52447552],\n",
       "       [0.92157842],\n",
       "       [0.06843157],\n",
       "       [0.00949051],\n",
       "       [0.47502498],\n",
       "       [0.91358641],\n",
       "       [0.4000999 ],\n",
       "       [0.06493506],\n",
       "       [0.47052947],\n",
       "       [0.01148851],\n",
       "       [0.01648352],\n",
       "       [0.01048951],\n",
       "       [0.01848152],\n",
       "       [0.61688312],\n",
       "       [0.00999001],\n",
       "       [0.6953047 ],\n",
       "       [0.65084915],\n",
       "       [0.54745255],\n",
       "       [0.71578422],\n",
       "       [0.97402597],\n",
       "       [0.05844156],\n",
       "       [0.45854146],\n",
       "       [0.41158841],\n",
       "       [0.40609391],\n",
       "       [0.48301698],\n",
       "       [0.49350649],\n",
       "       [0.90859141],\n",
       "       [0.01698302],\n",
       "       [0.06243756],\n",
       "       [0.71078921],\n",
       "       [0.34265734],\n",
       "       [0.92957043],\n",
       "       [0.60539461],\n",
       "       [0.92657343],\n",
       "       [0.00899101],\n",
       "       [0.17582418],\n",
       "       [0.55194805],\n",
       "       [0.01248751],\n",
       "       [0.67032967],\n",
       "       [0.73826174],\n",
       "       [0.06843157],\n",
       "       [0.53296703],\n",
       "       [0.01198801],\n",
       "       [0.54895105],\n",
       "       [0.98501499],\n",
       "       [0.83966034],\n",
       "       [0.01398601],\n",
       "       [0.81418581],\n",
       "       [0.07042957],\n",
       "       [0.88111888],\n",
       "       [0.35614386],\n",
       "       [0.01698302],\n",
       "       [0.01998002],\n",
       "       [0.48601399],\n",
       "       [0.01498501],\n",
       "       [0.62237762],\n",
       "       [0.05944056],\n",
       "       [0.9000999 ],\n",
       "       [0.89310689],\n",
       "       [0.80919081],\n",
       "       [0.91708292],\n",
       "       [0.61588412],\n",
       "       [0.48801199],\n",
       "       [0.9035964 ],\n",
       "       [0.54945055],\n",
       "       [0.55744256],\n",
       "       [0.40959041],\n",
       "       [0.92157842],\n",
       "       [0.06493506],\n",
       "       [0.80769231],\n",
       "       [0.86613387],\n",
       "       [0.06843157],\n",
       "       [0.01048951],\n",
       "       [0.63336663],\n",
       "       [0.06293706],\n",
       "       [0.86613387],\n",
       "       [0.01948052],\n",
       "       [0.62237762],\n",
       "       [0.01798202],\n",
       "       [0.73076923],\n",
       "       [0.01048951],\n",
       "       [0.77922078],\n",
       "       [0.07292707],\n",
       "       [0.00949051],\n",
       "       [0.01448551],\n",
       "       [0.34565435],\n",
       "       [0.86413586],\n",
       "       [0.01648352],\n",
       "       [0.71828172],\n",
       "       [0.93256743],\n",
       "       [0.55594406],\n",
       "       [0.54895105],\n",
       "       [0.86363636],\n",
       "       [0.35614386],\n",
       "       [0.02447552],\n",
       "       [0.92657343],\n",
       "       [0.96503497],\n",
       "       [0.84615385],\n",
       "       [0.02247752],\n",
       "       [0.00599401],\n",
       "       [0.65784216],\n",
       "       [0.20579421],\n",
       "       [0.01298701],\n",
       "       [0.9030969 ],\n",
       "       [0.73776224],\n",
       "       [0.63936064],\n",
       "       [0.003996  ],\n",
       "       [0.01348651],\n",
       "       [0.02047952],\n",
       "       [0.04995005],\n",
       "       [0.06943057],\n",
       "       [0.62887113],\n",
       "       [0.498002  ],\n",
       "       [0.6018981 ],\n",
       "       [0.80619381],\n",
       "       [0.66183816],\n",
       "       [0.02297702],\n",
       "       [0.06543457],\n",
       "       [0.96853147],\n",
       "       [0.91658342],\n",
       "       [0.93006993],\n",
       "       [0.06093906],\n",
       "       [0.45304695],\n",
       "       [0.42157842],\n",
       "       [0.76473526],\n",
       "       [0.60789211],\n",
       "       [0.58941059],\n",
       "       [0.86713287],\n",
       "       [0.02347652],\n",
       "       [0.82517483],\n",
       "       [0.02897103],\n",
       "       [0.01798202],\n",
       "       [0.63886114],\n",
       "       [0.05194805],\n",
       "       [0.33916084],\n",
       "       [0.01348651],\n",
       "       [0.00999001],\n",
       "       [0.01098901],\n",
       "       [0.54345654],\n",
       "       [0.56543457],\n",
       "       [0.71328671],\n",
       "       [0.00999001],\n",
       "       [0.87212787],\n",
       "       [0.00599401],\n",
       "       [0.00649351],\n",
       "       [0.31268731],\n",
       "       [0.60589411],\n",
       "       [0.61088911],\n",
       "       [0.01898102],\n",
       "       [0.01998002],\n",
       "       [0.96503497],\n",
       "       [0.57342657],\n",
       "       [0.36663337],\n",
       "       [0.60739261],\n",
       "       [0.01548452],\n",
       "       [0.01398601],\n",
       "       [0.73676324],\n",
       "       [0.8976024 ],\n",
       "       [0.84015984],\n",
       "       [0.01548452],\n",
       "       [0.05894106],\n",
       "       [0.01298701],\n",
       "       [0.00849151],\n",
       "       [0.41458541],\n",
       "       [0.60789211],\n",
       "       [0.07692308],\n",
       "       [0.01798202],\n",
       "       [0.06093906],\n",
       "       [0.26023976],\n",
       "       [0.06993007],\n",
       "       [0.55844156],\n",
       "       [0.02097902],\n",
       "       [0.41658342],\n",
       "       [0.01848152],\n",
       "       [0.01598402],\n",
       "       [0.06093906],\n",
       "       [0.7032967 ],\n",
       "       [0.01198801],\n",
       "       [0.55944056],\n",
       "       [0.6998002 ],\n",
       "       [0.68131868],\n",
       "       [0.98301698],\n",
       "       [0.50899101],\n",
       "       [0.86913087],\n",
       "       [0.88811189],\n",
       "       [0.61988012],\n",
       "       [0.01298701],\n",
       "       [0.01898102],\n",
       "       [0.62037962],\n",
       "       [0.01448551],\n",
       "       [0.00749251],\n",
       "       [0.71128871],\n",
       "       [0.71278721],\n",
       "       [0.88161838],\n",
       "       [0.51748252],\n",
       "       [0.01048951],\n",
       "       [0.05344655],\n",
       "       [0.06093906],\n",
       "       [0.01848152],\n",
       "       [0.57142857],\n",
       "       [0.06193806],\n",
       "       [0.38161838],\n",
       "       [0.67482517],\n",
       "       [0.3961039 ],\n",
       "       [0.78271728],\n",
       "       [0.01598402],\n",
       "       [0.01148851],\n",
       "       [0.05994006],\n",
       "       [0.72327672],\n",
       "       [0.01448551],\n",
       "       [0.27772228],\n",
       "       [0.62737263],\n",
       "       [0.36263736],\n",
       "       [0.05244755],\n",
       "       [0.60539461],\n",
       "       [0.02297702],\n",
       "       [0.05294705],\n",
       "       [0.06343656],\n",
       "       [0.06993007],\n",
       "       [0.65734266],\n",
       "       [0.72727273],\n",
       "       [0.71228771],\n",
       "       [0.72627373],\n",
       "       [0.65584416],\n",
       "       [0.73826174],\n",
       "       [0.45604396],\n",
       "       [0.98701299],\n",
       "       [0.86063936],\n",
       "       [0.91858142],\n",
       "       [0.01298701],\n",
       "       [0.05494505],\n",
       "       [0.95704296],\n",
       "       [0.73076923],\n",
       "       [0.0024975 ],\n",
       "       [0.05744256],\n",
       "       [0.50949051],\n",
       "       [0.64235764],\n",
       "       [0.8016983 ],\n",
       "       [0.93756244],\n",
       "       [0.62687313],\n",
       "       [0.75724276],\n",
       "       [0.05944056],\n",
       "       [0.67532468],\n",
       "       [0.66833167],\n",
       "       [0.35214785],\n",
       "       [0.67982018],\n",
       "       [0.90809191],\n",
       "       [0.60989011],\n",
       "       [0.01298701],\n",
       "       [0.75624376],\n",
       "       [0.76573427],\n",
       "       [0.41908092],\n",
       "       [0.01348651],\n",
       "       [0.54995005],\n",
       "       [0.7017982 ],\n",
       "       [0.91358641],\n",
       "       [0.60889111],\n",
       "       [0.87412587],\n",
       "       [0.26623377],\n",
       "       [0.86813187],\n",
       "       [0.00549451],\n",
       "       [0.8986014 ],\n",
       "       [0.96203796],\n",
       "       [0.00849151],\n",
       "       [0.77622378],\n",
       "       [0.02097902],\n",
       "       [0.01448551],\n",
       "       [0.05644356],\n",
       "       [0.01248751],\n",
       "       [0.88811189],\n",
       "       [0.01148851],\n",
       "       [0.71128871],\n",
       "       [0.17232767],\n",
       "       [0.00849151],\n",
       "       [0.67332667],\n",
       "       [0.7967033 ],\n",
       "       [0.01248751],\n",
       "       [0.91408591],\n",
       "       [0.41108891],\n",
       "       [0.8036963 ],\n",
       "       [0.79370629],\n",
       "       [0.06243756],\n",
       "       [0.95004995],\n",
       "       [0.25374625],\n",
       "       [0.05294705],\n",
       "       [0.01148851],\n",
       "       [0.00649351],\n",
       "       [0.36363636],\n",
       "       [0.05594406],\n",
       "       [0.06743257],\n",
       "       [0.01148851],\n",
       "       [0.41408591],\n",
       "       [0.68231768],\n",
       "       [0.06543457],\n",
       "       [0.01648352],\n",
       "       [0.06443556],\n",
       "       [0.07842158],\n",
       "       [0.5984016 ],\n",
       "       [0.47552448],\n",
       "       [0.46303696],\n",
       "       [0.51298701],\n",
       "       [0.06543457],\n",
       "       [0.01598402],\n",
       "       [0.05894106],\n",
       "       [0.38011988],\n",
       "       [0.86463536],\n",
       "       [0.96003996],\n",
       "       [0.94505495],\n",
       "       [0.65884116],\n",
       "       [0.01048951],\n",
       "       [0.31268731],\n",
       "       [0.1968032 ],\n",
       "       [0.65734266],\n",
       "       [0.07892108],\n",
       "       [0.01948052],\n",
       "       [0.01298701],\n",
       "       [0.02197802],\n",
       "       [0.01948052],\n",
       "       [0.45954046],\n",
       "       [0.01148851],\n",
       "       [0.80519481],\n",
       "       [0.01498501],\n",
       "       [0.06543457],\n",
       "       [0.36913087],\n",
       "       [0.07892108],\n",
       "       [0.93306693],\n",
       "       [0.60589411],\n",
       "       [0.80719281],\n",
       "       [0.81918082],\n",
       "       [0.72177822],\n",
       "       [0.01398601],\n",
       "       [0.65684316],\n",
       "       [0.01398601],\n",
       "       [0.05894106],\n",
       "       [0.79070929],\n",
       "       [0.86263736],\n",
       "       [0.9955045 ],\n",
       "       [0.07442557],\n",
       "       [0.98101898],\n",
       "       [0.52397602],\n",
       "       [0.50599401],\n",
       "       [0.76473526],\n",
       "       [0.72027972],\n",
       "       [0.7042957 ],\n",
       "       [0.02297702],\n",
       "       [0.55894106],\n",
       "       [0.05694306],\n",
       "       [0.68481518],\n",
       "       [0.82017982],\n",
       "       [0.56793207],\n",
       "       [0.66083916],\n",
       "       [0.41158841],\n",
       "       [0.89460539],\n",
       "       [0.01898102],\n",
       "       [0.01248751],\n",
       "       [0.07192807],\n",
       "       [0.58541459],\n",
       "       [0.87462537],\n",
       "       [0.01398601],\n",
       "       [0.02047952],\n",
       "       [0.06843157],\n",
       "       [0.01748252],\n",
       "       [0.01698302],\n",
       "       [0.63236763],\n",
       "       [0.93106893],\n",
       "       [0.00949051],\n",
       "       [0.57042957],\n",
       "       [0.92957043],\n",
       "       [0.6043956 ],\n",
       "       [0.01448551],\n",
       "       [0.67282717],\n",
       "       [0.63036963],\n",
       "       [0.61688312],\n",
       "       [0.71178821],\n",
       "       [0.61988012],\n",
       "       [0.01398601],\n",
       "       [0.90909091],\n",
       "       [0.90659341],\n",
       "       [0.01198801],\n",
       "       [0.66683317],\n",
       "       [0.27772228],\n",
       "       [0.87862138],\n",
       "       [0.05694306],\n",
       "       [0.06843157],\n",
       "       [0.3976024 ],\n",
       "       [0.01248751],\n",
       "       [0.46403596],\n",
       "       [0.06093906],\n",
       "       [0.04995005],\n",
       "       [0.64635365],\n",
       "       [0.00799201],\n",
       "       [0.07042957],\n",
       "       [0.86263736],\n",
       "       [0.75474525],\n",
       "       [0.01048951],\n",
       "       [0.34715285],\n",
       "       [0.60989011],\n",
       "       [0.65834166],\n",
       "       [0.07392607],\n",
       "       [0.94605395],\n",
       "       [0.44755245],\n",
       "       [0.62437562],\n",
       "       [0.94305694],\n",
       "       [0.05544456],\n",
       "       [0.75474525],\n",
       "       [0.06143856],\n",
       "       [0.92107892],\n",
       "       [0.00999001],\n",
       "       [0.52497502],\n",
       "       [0.64885115],\n",
       "       [0.80519481],\n",
       "       [0.66683317],\n",
       "       [0.96103896],\n",
       "       [0.86163836],\n",
       "       [0.51748252],\n",
       "       [0.89460539],\n",
       "       [0.07142857],\n",
       "       [0.83866134],\n",
       "       [0.93956044],\n",
       "       [0.69330669],\n",
       "       [0.00999001],\n",
       "       [0.66483516],\n",
       "       [0.504995  ],\n",
       "       [0.07442557],\n",
       "       [0.78821179],\n",
       "       [0.86863137],\n",
       "       [0.36913087],\n",
       "       [0.87662338],\n",
       "       [0.02047952],\n",
       "       [0.05694306],\n",
       "       [0.46203796],\n",
       "       [0.02147852],\n",
       "       [0.01298701],\n",
       "       [0.07192807],\n",
       "       [0.7007992 ],\n",
       "       [0.98201798],\n",
       "       [0.35764236],\n",
       "       [0.96303696],\n",
       "       [0.7047952 ],\n",
       "       [0.51248751],\n",
       "       [0.45554446],\n",
       "       [0.04745255],\n",
       "       [0.25974026],\n",
       "       [0.41558442],\n",
       "       [0.96053946],\n",
       "       [0.98851149],\n",
       "       [0.38961039],\n",
       "       [0.12487512],\n",
       "       [0.69430569],\n",
       "       [0.84265734],\n",
       "       [0.49050949],\n",
       "       [0.90659341],\n",
       "       [0.20529471],\n",
       "       [0.3966034 ],\n",
       "       [0.72677323],\n",
       "       [0.40909091],\n",
       "       [0.67482517],\n",
       "       [0.91658342],\n",
       "       [0.91008991],\n",
       "       [0.49250749],\n",
       "       [0.42807193],\n",
       "       [0.61738262],\n",
       "       [0.84515485],\n",
       "       [0.69430569],\n",
       "       [0.71928072],\n",
       "       [0.96453546],\n",
       "       [0.95004995],\n",
       "       [0.61988012],\n",
       "       [0.01848152],\n",
       "       [0.91308691],\n",
       "       [0.55244755],\n",
       "       [0.60589411],\n",
       "       [0.46203796],\n",
       "       [0.06043956],\n",
       "       [0.46103896],\n",
       "       [0.8041958 ],\n",
       "       [0.35914086],\n",
       "       [0.06393606],\n",
       "       [0.72177822],\n",
       "       [0.05694306],\n",
       "       [0.62387612],\n",
       "       [0.06893107],\n",
       "       [0.05794206],\n",
       "       [0.78371628],\n",
       "       [0.76473526],\n",
       "       [0.01298701],\n",
       "       [0.41158841],\n",
       "       [0.97902098],\n",
       "       [0.95654346],\n",
       "       [0.06093906],\n",
       "       [0.34415584],\n",
       "       [0.62387612],\n",
       "       [0.36013986],\n",
       "       [0.05344655],\n",
       "       [0.91458541],\n",
       "       [0.41808192],\n",
       "       [0.71228771],\n",
       "       [0.71878122],\n",
       "       [0.37812188],\n",
       "       [0.91308691],\n",
       "       [0.69380619],\n",
       "       [0.20779221],\n",
       "       [0.62737263],\n",
       "       [0.01298701],\n",
       "       [0.06393606],\n",
       "       [0.35064935],\n",
       "       [0.71278721],\n",
       "       [0.95004995],\n",
       "       [0.51048951],\n",
       "       [0.05894106],\n",
       "       [0.73326673],\n",
       "       [0.63486513],\n",
       "       [0.35714286],\n",
       "       [0.16533467],\n",
       "       [0.00999001],\n",
       "       [0.55694306],\n",
       "       [0.70929071],\n",
       "       [0.01998002],\n",
       "       [0.66133866],\n",
       "       [0.51298701],\n",
       "       [0.47252747],\n",
       "       [0.3031968 ],\n",
       "       [0.85514486],\n",
       "       [0.61988012],\n",
       "       [0.00899101]])"
      ]
     },
     "execution_count": 88,
     "metadata": {},
     "output_type": "execute_result"
    }
   ],
   "source": [
    "train2"
   ]
  },
  {
   "cell_type": "code",
   "execution_count": 89,
   "metadata": {
    "collapsed": true,
    "jupyter": {
     "outputs_hidden": true
    }
   },
   "outputs": [
    {
     "data": {
      "text/plain": [
       "array([[ 2.76723277e-01,  5.03996004e-01,  3.09975025e+01],\n",
       "       [ 7.99200799e-03,  4.64035964e-01,  1.30009990e+01],\n",
       "       [ 9.49050949e-03, -1.05394605e-01,  1.43456543e+00],\n",
       "       ...,\n",
       "       [ 6.99300699e-03,  4.44055944e-01,  1.21788212e+01],\n",
       "       [ 9.75524476e-01,  4.84015984e-01,  7.72602398e+01],\n",
       "       [ 6.66833167e-01,  5.33966034e-01,  6.10454545e+01]])"
      ]
     },
     "execution_count": 89,
     "metadata": {},
     "output_type": "execute_result"
    }
   ],
   "source": [
    "validate2"
   ]
  },
  {
   "cell_type": "code",
   "execution_count": 90,
   "metadata": {
    "collapsed": true,
    "jupyter": {
     "outputs_hidden": true
    }
   },
   "outputs": [
    {
     "data": {
      "text/plain": [
       "array([[4.63536464e-01, 5.33966034e-01, 4.53960539e+02],\n",
       "       [7.71228771e-01, 5.23976024e-01, 6.82402597e+01],\n",
       "       [3.01198801e-01, 4.34065934e-01, 2.98701299e+01],\n",
       "       ...,\n",
       "       [7.54245754e-02, 1.54345654e-01, 9.60839161e+00],\n",
       "       [1.19880120e-02, 4.24075924e-01, 1.10454545e+01],\n",
       "       [5.89410589e-02, 5.23976024e-01, 1.71038961e+01]])"
      ]
     },
     "execution_count": 90,
     "metadata": {},
     "output_type": "execute_result"
    }
   ],
   "source": [
    "test2"
   ]
  },
  {
   "cell_type": "code",
   "execution_count": null,
   "metadata": {},
   "outputs": [],
   "source": []
  }
 ],
 "metadata": {
  "kernelspec": {
   "display_name": "Python 3",
   "language": "python",
   "name": "python3"
  },
  "language_info": {
   "codemirror_mode": {
    "name": "ipython",
    "version": 3
   },
   "file_extension": ".py",
   "mimetype": "text/x-python",
   "name": "python",
   "nbconvert_exporter": "python",
   "pygments_lexer": "ipython3",
   "version": "3.8.5"
  }
 },
 "nbformat": 4,
 "nbformat_minor": 4
}
